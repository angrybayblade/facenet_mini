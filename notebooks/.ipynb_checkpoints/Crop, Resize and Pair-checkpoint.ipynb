{
 "cells": [
  {
   "cell_type": "code",
   "execution_count": 1,
   "metadata": {},
   "outputs": [],
   "source": [
    "import numpy as np\n",
    "import pandas as pd\n",
    "import matplotlib.pyplot as plt\n",
    "import cv2\n",
    "\n",
    "from glob import glob\n",
    "\n",
    "%matplotlib inline"
   ]
  },
  {
   "cell_type": "code",
   "execution_count": 17,
   "metadata": {},
   "outputs": [],
   "source": [
    "people = [i.split(\"\\\\\")[-2] for i in glob(\"images\\\\original\\\\*\\\\*\")]\n",
    "people = pd.Series(people)\n",
    "people_counts = people.value_counts()\n",
    "people = list(people_counts.index[people_counts.values > 3])"
   ]
  },
  {
   "cell_type": "code",
   "execution_count": 18,
   "metadata": {},
   "outputs": [],
   "source": [
    "train = np.random.choice(people,(50,),replace=False)"
   ]
  },
  {
   "cell_type": "code",
   "execution_count": 19,
   "metadata": {},
   "outputs": [
    {
     "data": {
      "text/plain": [
       "True"
      ]
     },
     "execution_count": 19,
     "metadata": {},
     "output_type": "execute_result"
    }
   ],
   "source": [
    "len(train) == len(set(train))"
   ]
  },
  {
   "cell_type": "code",
   "execution_count": 20,
   "metadata": {},
   "outputs": [
    {
     "data": {
      "text/plain": [
       "True"
      ]
     },
     "execution_count": 20,
     "metadata": {},
     "output_type": "execute_result"
    }
   ],
   "source": [
    "haar = cv2.CascadeClassifier()\n",
    "haar.load(\"../haarcascade_frontalface_default.xml\")"
   ]
  },
  {
   "cell_type": "code",
   "execution_count": 25,
   "metadata": {},
   "outputs": [],
   "source": [
    "for p in train:\n",
    "    imgs = glob(f\"images\\\\original\\\\{p}\\\\*.jpg\")\n",
    "    for i in range(3):\n",
    "        img = cv2.imread(imgs[i])\n",
    "        x,y,w,h = haar.detectMultiScale(img)[-1]\n",
    "        cv2.imwrite(f\"images\\\\train\\\\{p}-{i}.jpg\",cv2.resize(img[y-3:y+h+3,x-3:x+w+3],(128,128),interpolation=cv2.INTER_CUBIC))"
   ]
  },
  {
   "cell_type": "code",
   "execution_count": 2,
   "metadata": {},
   "outputs": [],
   "source": [
    "images = list(set([i.split(\"\\\\\")[2].split(\"-\")[0] for i in glob(\"images\\\\train\\\\*.jpg\")]))"
   ]
  },
  {
   "cell_type": "code",
   "execution_count": 3,
   "metadata": {},
   "outputs": [],
   "source": [
    "pairs = []\n",
    "\n",
    "for p in images:\n",
    "    for i in range(3):\n",
    "        images_ = images.copy()\n",
    "        images_.remove(images[0])\n",
    "        a = f\"images/train/{p}-{i}.jpg\"\n",
    "        p = f\"images/train/{p}-{(i+1)%3}.jpg\"\n",
    "        for n in images_:\n",
    "            for j in range(3):\n",
    "                pairs.append([a,p,f\"images/train/{n}-{j}.jpg\"])\n",
    "                \n",
    "pairs = np.array(pairs)"
   ]
  },
  {
   "cell_type": "code",
   "execution_count": 4,
   "metadata": {},
   "outputs": [],
   "source": [
    "np.save(\"./pairs.npy\",pairs)"
   ]
  }
 ],
 "metadata": {
  "kernelspec": {
   "display_name": "Python 3",
   "language": "python",
   "name": "python3"
  },
  "language_info": {
   "codemirror_mode": {
    "name": "ipython",
    "version": 3
   },
   "file_extension": ".py",
   "mimetype": "text/x-python",
   "name": "python",
   "nbconvert_exporter": "python",
   "pygments_lexer": "ipython3",
   "version": "3.6.8"
  }
 },
 "nbformat": 4,
 "nbformat_minor": 4
}
