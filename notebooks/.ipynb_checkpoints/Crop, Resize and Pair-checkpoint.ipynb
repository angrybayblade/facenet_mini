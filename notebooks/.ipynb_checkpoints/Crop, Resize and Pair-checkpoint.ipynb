{
 "cells": [
  {
   "cell_type": "code",
   "execution_count": 8,
   "metadata": {},
   "outputs": [],
   "source": [
    "import numpy as np\n",
    "import pandas as pd\n",
    "import matplotlib.pyplot as plt\n",
    "import cv2\n",
    "\n",
    "from glob import glob\n",
    "from os import system\n",
    "\n",
    "%matplotlib inline"
   ]
  },
  {
   "cell_type": "code",
   "execution_count": 9,
   "metadata": {},
   "outputs": [],
   "source": [
    "people = [i.split(\"\\\\\")[-2] for i in glob(\"images\\\\original\\\\*\\\\*\")]\n",
    "people = pd.Series(people)\n",
    "people_counts = people.value_counts()\n",
    "people = list(people_counts.index[people_counts.values > 3])"
   ]
  },
  {
   "cell_type": "code",
   "execution_count": 10,
   "metadata": {},
   "outputs": [],
   "source": [
    "train = np.random.choice(people,(100,),replace=False)"
   ]
  },
  {
   "cell_type": "code",
   "execution_count": 11,
   "metadata": {},
   "outputs": [
    {
     "data": {
      "text/plain": [
       "True"
      ]
     },
     "execution_count": 11,
     "metadata": {},
     "output_type": "execute_result"
    }
   ],
   "source": [
    "haar = cv2.CascadeClassifier()\n",
    "haar.load(\"../examples/haarcascade_frontalface_default.xml\")"
   ]
  },
  {
   "cell_type": "code",
   "execution_count": 12,
   "metadata": {},
   "outputs": [],
   "source": [
    "!rm -rf \"images\\\\train\\\\\"\n",
    "!mkdir \"images\\\\train\\\\\""
   ]
  },
  {
   "cell_type": "code",
   "execution_count": 13,
   "metadata": {},
   "outputs": [],
   "source": [
    "for p in train:\n",
    "    imgs = glob(f\"images\\\\original\\\\{p}\\\\*.jpg\")\n",
    "    for i in range(3):\n",
    "        img = cv2.imread(imgs[i])\n",
    "        x,y,w,h = haar.detectMultiScale(img)[-1]\n",
    "        system(f\"mkdir images\\\\train\\\\{p}\")\n",
    "        cv2.imwrite(f\"images\\\\train\\\\{p}\\\\{i}.jpg\",cv2.resize(img[y-3:y+h+3,x-3:x+w+3],(110,110),interpolation=cv2.INTER_CUBIC))"
   ]
  }
 ],
 "metadata": {
  "kernelspec": {
   "display_name": "Python 3",
   "language": "python",
   "name": "python3"
  },
  "language_info": {
   "codemirror_mode": {
    "name": "ipython",
    "version": 3
   },
   "file_extension": ".py",
   "mimetype": "text/x-python",
   "name": "python",
   "nbconvert_exporter": "python",
   "pygments_lexer": "ipython3",
   "version": "3.6.8"
  }
 },
 "nbformat": 4,
 "nbformat_minor": 4
}
