{
 "cells": [
  {
   "cell_type": "code",
   "execution_count": 30,
   "metadata": {},
   "outputs": [],
   "source": [
    "import numpy as np\n",
    "import pandas as pd\n",
    "import matplotlib.pyplot as plt\n",
    "import cv2\n",
    "\n",
    "from glob import glob\n",
    "\n",
    "%matplotlib inline"
   ]
  },
  {
   "cell_type": "code",
   "execution_count": 46,
   "metadata": {},
   "outputs": [],
   "source": [
    "people = [i.split(\"\\\\\")[-2] for i in glob(\"images\\\\original\\\\*\\\\*\")]\n",
    "people = pd.Series(people)\n",
    "people_counts = people.value_counts()\n",
    "people = list(people_counts.index[people_counts.values > 3])"
   ]
  },
  {
   "cell_type": "code",
   "execution_count": 47,
   "metadata": {},
   "outputs": [],
   "source": [
    "train = np.random.choice(people,(50,),replace=False)"
   ]
  },
  {
   "cell_type": "code",
   "execution_count": 48,
   "metadata": {},
   "outputs": [
    {
     "data": {
      "text/plain": [
       "True"
      ]
     },
     "execution_count": 48,
     "metadata": {},
     "output_type": "execute_result"
    }
   ],
   "source": [
    "haar = cv2.CascadeClassifier()\n",
    "haar.load(\"../haarcascade_frontalface_default.xml\")"
   ]
  },
  {
   "cell_type": "code",
   "execution_count": 49,
   "metadata": {},
   "outputs": [],
   "source": [
    "!rm -rf \"images\\\\train\\\\*.jpg\""
   ]
  },
  {
   "cell_type": "code",
   "execution_count": 50,
   "metadata": {},
   "outputs": [],
   "source": [
    "for p in train:\n",
    "    imgs = glob(f\"images\\\\original\\\\{p}\\\\*.jpg\")\n",
    "    for i in range(3):\n",
    "        img = cv2.imread(imgs[i])\n",
    "        x,y,w,h = haar.detectMultiScale(img)[-1]\n",
    "        cv2.imwrite(f\"images\\\\train\\\\{p}-{i}.jpg\",cv2.resize(img[y-3:y+h+3,x-3:x+w+3],(128,128),interpolation=cv2.INTER_CUBIC))"
   ]
  },
  {
   "cell_type": "code",
   "execution_count": 68,
   "metadata": {},
   "outputs": [],
   "source": [
    "pairs = []\n",
    "\n",
    "for p in train:\n",
    "    for i in range(3):\n",
    "        images_ = list(train.copy())\n",
    "        images_.remove(train[i])\n",
    "        ai = f\"images/train/{p}-{i}.jpg\"\n",
    "        pi = f\"images/train/{p}-{(i+1)%3}.jpg\"\n",
    "        for ni in images_:\n",
    "            for j in range(3):\n",
    "                pairs.append([ai,pi,f\"images/train/{ni}-{j}.jpg\"])\n",
    "                \n",
    "pairs = np.array(pairs)"
   ]
  },
  {
   "cell_type": "code",
   "execution_count": 71,
   "metadata": {},
   "outputs": [],
   "source": [
    "np.save(\"./pairs.npy\",pairs)"
   ]
  },
  {
   "cell_type": "code",
   "execution_count": null,
   "metadata": {},
   "outputs": [],
   "source": []
  }
 ],
 "metadata": {
  "kernelspec": {
   "display_name": "Python 3",
   "language": "python",
   "name": "python3"
  },
  "language_info": {
   "codemirror_mode": {
    "name": "ipython",
    "version": 3
   },
   "file_extension": ".py",
   "mimetype": "text/x-python",
   "name": "python",
   "nbconvert_exporter": "python",
   "pygments_lexer": "ipython3",
   "version": "3.6.8"
  }
 },
 "nbformat": 4,
 "nbformat_minor": 4
}
