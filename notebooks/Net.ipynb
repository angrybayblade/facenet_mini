{
 "cells": [
  {
   "cell_type": "code",
   "execution_count": 1,
   "metadata": {},
   "outputs": [
    {
     "ename": "KeyboardInterrupt",
     "evalue": "",
     "output_type": "error",
     "traceback": [
      "\u001b[1;31m---------------------------------------------------------------------------\u001b[0m",
      "\u001b[1;31mKeyboardInterrupt\u001b[0m                         Traceback (most recent call last)",
      "\u001b[1;32m<ipython-input-1-bcf0f5c4687b>\u001b[0m in \u001b[0;36m<module>\u001b[1;34m\u001b[0m\n\u001b[0;32m      4\u001b[0m \u001b[1;32mimport\u001b[0m \u001b[0mcv2\u001b[0m\u001b[1;33m\u001b[0m\u001b[1;33m\u001b[0m\u001b[0m\n\u001b[0;32m      5\u001b[0m \u001b[1;32mimport\u001b[0m \u001b[0mseaborn\u001b[0m \u001b[1;32mas\u001b[0m \u001b[0msns\u001b[0m\u001b[1;33m\u001b[0m\u001b[1;33m\u001b[0m\u001b[0m\n\u001b[1;32m----> 6\u001b[1;33m \u001b[1;32mimport\u001b[0m \u001b[0mplotly\u001b[0m\u001b[1;33m.\u001b[0m\u001b[0mexpress\u001b[0m \u001b[1;32mas\u001b[0m \u001b[0mex\u001b[0m\u001b[1;33m\u001b[0m\u001b[1;33m\u001b[0m\u001b[0m\n\u001b[0m\u001b[0;32m      7\u001b[0m \u001b[1;33m\u001b[0m\u001b[0m\n\u001b[0;32m      8\u001b[0m \u001b[1;32mfrom\u001b[0m \u001b[0mtqdm\u001b[0m\u001b[1;33m.\u001b[0m\u001b[0mcli\u001b[0m \u001b[1;32mimport\u001b[0m \u001b[0mtqdm\u001b[0m\u001b[1;33m\u001b[0m\u001b[1;33m\u001b[0m\u001b[0m\n",
      "\u001b[1;32mc:\\python36\\lib\\site-packages\\plotly\\__init__.py\u001b[0m in \u001b[0;36m<module>\u001b[1;34m\u001b[0m\n\u001b[0;32m     32\u001b[0m \u001b[1;33m\u001b[0m\u001b[0m\n\u001b[0;32m     33\u001b[0m \u001b[1;32mif\u001b[0m \u001b[0msys\u001b[0m\u001b[1;33m.\u001b[0m\u001b[0mversion_info\u001b[0m \u001b[1;33m<\u001b[0m \u001b[1;33m(\u001b[0m\u001b[1;36m3\u001b[0m\u001b[1;33m,\u001b[0m \u001b[1;36m7\u001b[0m\u001b[1;33m)\u001b[0m\u001b[1;33m:\u001b[0m\u001b[1;33m\u001b[0m\u001b[1;33m\u001b[0m\u001b[0m\n\u001b[1;32m---> 34\u001b[1;33m     from plotly import (\n\u001b[0m\u001b[0;32m     35\u001b[0m         \u001b[0mgraph_objs\u001b[0m\u001b[1;33m,\u001b[0m\u001b[1;33m\u001b[0m\u001b[1;33m\u001b[0m\u001b[0m\n\u001b[0;32m     36\u001b[0m         \u001b[0mtools\u001b[0m\u001b[1;33m,\u001b[0m\u001b[1;33m\u001b[0m\u001b[1;33m\u001b[0m\u001b[0m\n",
      "\u001b[1;32mc:\\python36\\lib\\site-packages\\plotly\\graph_objs\\__init__.py\u001b[0m in \u001b[0;36m<module>\u001b[1;34m\u001b[0m\n\u001b[0;32m     99\u001b[0m     \u001b[1;32mfrom\u001b[0m \u001b[1;33m.\u001b[0m \u001b[1;32mimport\u001b[0m \u001b[0mindicator\u001b[0m\u001b[1;33m\u001b[0m\u001b[1;33m\u001b[0m\u001b[0m\n\u001b[0;32m    100\u001b[0m     \u001b[1;32mfrom\u001b[0m \u001b[1;33m.\u001b[0m \u001b[1;32mimport\u001b[0m \u001b[0misosurface\u001b[0m\u001b[1;33m\u001b[0m\u001b[1;33m\u001b[0m\u001b[0m\n\u001b[1;32m--> 101\u001b[1;33m     \u001b[1;32mfrom\u001b[0m \u001b[1;33m.\u001b[0m \u001b[1;32mimport\u001b[0m \u001b[0mlayout\u001b[0m\u001b[1;33m\u001b[0m\u001b[1;33m\u001b[0m\u001b[0m\n\u001b[0m\u001b[0;32m    102\u001b[0m     \u001b[1;32mfrom\u001b[0m \u001b[1;33m.\u001b[0m \u001b[1;32mimport\u001b[0m \u001b[0mmesh3d\u001b[0m\u001b[1;33m\u001b[0m\u001b[1;33m\u001b[0m\u001b[0m\n\u001b[0;32m    103\u001b[0m     \u001b[1;32mfrom\u001b[0m \u001b[1;33m.\u001b[0m \u001b[1;32mimport\u001b[0m \u001b[0mohlc\u001b[0m\u001b[1;33m\u001b[0m\u001b[1;33m\u001b[0m\u001b[0m\n",
      "\u001b[1;32mc:\\python36\\lib\\site-packages\\plotly\\graph_objs\\layout\\__init__.py\u001b[0m in \u001b[0;36m<module>\u001b[1;34m\u001b[0m\n\u001b[0;32m     43\u001b[0m     \u001b[1;32mfrom\u001b[0m \u001b[1;33m.\u001b[0m \u001b[1;32mimport\u001b[0m \u001b[0mslider\u001b[0m\u001b[1;33m\u001b[0m\u001b[1;33m\u001b[0m\u001b[0m\n\u001b[0;32m     44\u001b[0m     \u001b[1;32mfrom\u001b[0m \u001b[1;33m.\u001b[0m \u001b[1;32mimport\u001b[0m \u001b[0mtemplate\u001b[0m\u001b[1;33m\u001b[0m\u001b[1;33m\u001b[0m\u001b[0m\n\u001b[1;32m---> 45\u001b[1;33m     \u001b[1;32mfrom\u001b[0m \u001b[1;33m.\u001b[0m \u001b[1;32mimport\u001b[0m \u001b[0mternary\u001b[0m\u001b[1;33m\u001b[0m\u001b[1;33m\u001b[0m\u001b[0m\n\u001b[0m\u001b[0;32m     46\u001b[0m     \u001b[1;32mfrom\u001b[0m \u001b[1;33m.\u001b[0m \u001b[1;32mimport\u001b[0m \u001b[0mtitle\u001b[0m\u001b[1;33m\u001b[0m\u001b[1;33m\u001b[0m\u001b[0m\n\u001b[0;32m     47\u001b[0m     \u001b[1;32mfrom\u001b[0m \u001b[1;33m.\u001b[0m \u001b[1;32mimport\u001b[0m \u001b[0mupdatemenu\u001b[0m\u001b[1;33m\u001b[0m\u001b[1;33m\u001b[0m\u001b[0m\n",
      "\u001b[1;32mc:\\python36\\lib\\site-packages\\plotly\\graph_objs\\layout\\ternary\\__init__.py\u001b[0m in \u001b[0;36m<module>\u001b[1;34m\u001b[0m\n\u001b[0;32m      6\u001b[0m     \u001b[1;32mfrom\u001b[0m \u001b[1;33m.\u001b[0m\u001b[0m_caxis\u001b[0m \u001b[1;32mimport\u001b[0m \u001b[0mCaxis\u001b[0m\u001b[1;33m\u001b[0m\u001b[1;33m\u001b[0m\u001b[0m\n\u001b[0;32m      7\u001b[0m     \u001b[1;32mfrom\u001b[0m \u001b[1;33m.\u001b[0m\u001b[0m_domain\u001b[0m \u001b[1;32mimport\u001b[0m \u001b[0mDomain\u001b[0m\u001b[1;33m\u001b[0m\u001b[1;33m\u001b[0m\u001b[0m\n\u001b[1;32m----> 8\u001b[1;33m     \u001b[1;32mfrom\u001b[0m \u001b[1;33m.\u001b[0m \u001b[1;32mimport\u001b[0m \u001b[0maaxis\u001b[0m\u001b[1;33m\u001b[0m\u001b[1;33m\u001b[0m\u001b[0m\n\u001b[0m\u001b[0;32m      9\u001b[0m     \u001b[1;32mfrom\u001b[0m \u001b[1;33m.\u001b[0m \u001b[1;32mimport\u001b[0m \u001b[0mbaxis\u001b[0m\u001b[1;33m\u001b[0m\u001b[1;33m\u001b[0m\u001b[0m\n\u001b[0;32m     10\u001b[0m     \u001b[1;32mfrom\u001b[0m \u001b[1;33m.\u001b[0m \u001b[1;32mimport\u001b[0m \u001b[0mcaxis\u001b[0m\u001b[1;33m\u001b[0m\u001b[1;33m\u001b[0m\u001b[0m\n",
      "\u001b[1;32mc:\\python36\\lib\\site-packages\\plotly\\graph_objs\\layout\\ternary\\aaxis\\__init__.py\u001b[0m in \u001b[0;36m<module>\u001b[1;34m\u001b[0m\n\u001b[0;32m      3\u001b[0m \u001b[1;32mif\u001b[0m \u001b[0msys\u001b[0m\u001b[1;33m.\u001b[0m\u001b[0mversion_info\u001b[0m \u001b[1;33m<\u001b[0m \u001b[1;33m(\u001b[0m\u001b[1;36m3\u001b[0m\u001b[1;33m,\u001b[0m \u001b[1;36m7\u001b[0m\u001b[1;33m)\u001b[0m\u001b[1;33m:\u001b[0m\u001b[1;33m\u001b[0m\u001b[1;33m\u001b[0m\u001b[0m\n\u001b[0;32m      4\u001b[0m     \u001b[1;32mfrom\u001b[0m \u001b[1;33m.\u001b[0m\u001b[0m_tickfont\u001b[0m \u001b[1;32mimport\u001b[0m \u001b[0mTickfont\u001b[0m\u001b[1;33m\u001b[0m\u001b[1;33m\u001b[0m\u001b[0m\n\u001b[1;32m----> 5\u001b[1;33m     \u001b[1;32mfrom\u001b[0m \u001b[1;33m.\u001b[0m\u001b[0m_tickformatstop\u001b[0m \u001b[1;32mimport\u001b[0m \u001b[0mTickformatstop\u001b[0m\u001b[1;33m\u001b[0m\u001b[1;33m\u001b[0m\u001b[0m\n\u001b[0m\u001b[0;32m      6\u001b[0m     \u001b[1;32mfrom\u001b[0m \u001b[1;33m.\u001b[0m\u001b[0m_title\u001b[0m \u001b[1;32mimport\u001b[0m \u001b[0mTitle\u001b[0m\u001b[1;33m\u001b[0m\u001b[1;33m\u001b[0m\u001b[0m\n\u001b[0;32m      7\u001b[0m     \u001b[1;32mfrom\u001b[0m \u001b[1;33m.\u001b[0m \u001b[1;32mimport\u001b[0m \u001b[0mtitle\u001b[0m\u001b[1;33m\u001b[0m\u001b[1;33m\u001b[0m\u001b[0m\n",
      "\u001b[1;32mc:\\python36\\lib\\site-packages\\plotly\\graph_objs\\layout\\ternary\\aaxis\\_tickformatstop.py\u001b[0m in \u001b[0;36m<module>\u001b[1;34m\u001b[0m\n\u001b[0;32m      3\u001b[0m \u001b[1;33m\u001b[0m\u001b[0m\n\u001b[0;32m      4\u001b[0m \u001b[1;33m\u001b[0m\u001b[0m\n\u001b[1;32m----> 5\u001b[1;33m \u001b[1;32mclass\u001b[0m \u001b[0mTickformatstop\u001b[0m\u001b[1;33m(\u001b[0m\u001b[0m_BaseLayoutHierarchyType\u001b[0m\u001b[1;33m)\u001b[0m\u001b[1;33m:\u001b[0m\u001b[1;33m\u001b[0m\u001b[1;33m\u001b[0m\u001b[0m\n\u001b[0m\u001b[0;32m      6\u001b[0m \u001b[1;33m\u001b[0m\u001b[0m\n\u001b[0;32m      7\u001b[0m     \u001b[1;31m# class properties\u001b[0m\u001b[1;33m\u001b[0m\u001b[1;33m\u001b[0m\u001b[1;33m\u001b[0m\u001b[0m\n",
      "\u001b[1;32mc:\\python36\\lib\\site-packages\\plotly\\graph_objs\\layout\\ternary\\aaxis\\_tickformatstop.py\u001b[0m in \u001b[0;36mTickformatstop\u001b[1;34m()\u001b[0m\n\u001b[0;32m    130\u001b[0m         \u001b[1;32mreturn\u001b[0m \u001b[0mself\u001b[0m\u001b[1;33m[\u001b[0m\u001b[1;34m\"value\"\u001b[0m\u001b[1;33m]\u001b[0m\u001b[1;33m\u001b[0m\u001b[1;33m\u001b[0m\u001b[0m\n\u001b[0;32m    131\u001b[0m \u001b[1;33m\u001b[0m\u001b[0m\n\u001b[1;32m--> 132\u001b[1;33m     \u001b[1;33m@\u001b[0m\u001b[0mvalue\u001b[0m\u001b[1;33m.\u001b[0m\u001b[0msetter\u001b[0m\u001b[1;33m\u001b[0m\u001b[1;33m\u001b[0m\u001b[0m\n\u001b[0m\u001b[0;32m    133\u001b[0m     \u001b[1;32mdef\u001b[0m \u001b[0mvalue\u001b[0m\u001b[1;33m(\u001b[0m\u001b[0mself\u001b[0m\u001b[1;33m,\u001b[0m \u001b[0mval\u001b[0m\u001b[1;33m)\u001b[0m\u001b[1;33m:\u001b[0m\u001b[1;33m\u001b[0m\u001b[1;33m\u001b[0m\u001b[0m\n\u001b[0;32m    134\u001b[0m         \u001b[0mself\u001b[0m\u001b[1;33m[\u001b[0m\u001b[1;34m\"value\"\u001b[0m\u001b[1;33m]\u001b[0m \u001b[1;33m=\u001b[0m \u001b[0mval\u001b[0m\u001b[1;33m\u001b[0m\u001b[1;33m\u001b[0m\u001b[0m\n",
      "\u001b[1;31mKeyboardInterrupt\u001b[0m: "
     ]
    }
   ],
   "source": [
    "import numpy as np\n",
    "import pandas as pd\n",
    "import matplotlib.pyplot as plt\n",
    "import cv2\n",
    "import seaborn as sns\n",
    "import plotly.express as ex\n",
    "\n",
    "from tqdm.cli import tqdm\n",
    "from glob import glob\n",
    "from sklearn.manifold import TSNE\n",
    "from plotly import express as ex\n",
    "from os import path as pathlib,walk\n",
    "\n",
    "%matplotlib inline"
   ]
  },
  {
   "cell_type": "code",
   "execution_count": null,
   "metadata": {},
   "outputs": [],
   "source": [
    "class Dataset(object):\n",
    "    \"\"\"\n",
    "    Dataset wrapper to read images from folder and structure it.\n",
    "    \"\"\"\n",
    "    def __init__(self,path,n_faces,resize=110):\n",
    "        self.path = pathlib.abspath(path)\n",
    "        self.resize = resize\n",
    "\n",
    "    def __repr__(self,):\n",
    "        return f\"Dataset Parser @ {self.path}\"\n",
    "        \n",
    "    def parse(self,progress_bar=True):\n",
    "        w = walk(self.path)\n",
    "        self.data = np.array([[[r,pathlib.join(r,f_)] for f_ in f] for r,_,f in list(w)[1:]]).reshape(-1,2)\n",
    "        self.y = np.array(self.data[:,0])\n",
    "        self.x = np.array([\n",
    "            cv2.cvtColor(\n",
    "                cv2.resize(\n",
    "                    cv2.imread(\n",
    "                        i\n",
    "                    ),\n",
    "                    (self.resize,self.resize)\n",
    "                ),\n",
    "                cv2.COLOR_BGR2RGB\n",
    "            ) / 255\n",
    "            for \n",
    "                i\n",
    "            in \n",
    "                (tqdm(self.data[:,1]) if progress_bar else self.data[:,1])\n",
    "        ]).astype(np.float32)\n",
    "        return self\n",
    "            "
   ]
  },
  {
   "cell_type": "code",
   "execution_count": null,
   "metadata": {},
   "outputs": [],
   "source": [
    "dataset = Dataset(\"./images/train/\",100)"
   ]
  },
  {
   "cell_type": "code",
   "execution_count": null,
   "metadata": {},
   "outputs": [],
   "source": [
    "dataset.parse(progress_bar=1)"
   ]
  },
  {
   "cell_type": "code",
   "execution_count": null,
   "metadata": {},
   "outputs": [],
   "source": [
    "dataset"
   ]
  },
  {
   "cell_type": "code",
   "execution_count": null,
   "metadata": {},
   "outputs": [],
   "source": [
    "import tensorflow as tf\n",
    "\n",
    "from tensorflow import keras\n",
    "from tensorflow.keras.layers import *\n",
    "from tensorflow.keras.callbacks import LearningRateScheduler,ModelCheckpoint,Callback"
   ]
  },
  {
   "cell_type": "markdown",
   "metadata": {},
   "source": [
    "### Base Network"
   ]
  },
  {
   "cell_type": "markdown",
   "metadata": {},
   "source": [
    "<!-- |layer  | size-in    | size-out   | kernel     | param | FLPS |\n",
    "|-------|------------|------------|------------|-------|------|\n",
    "|conv1  | 220×220×3  | 110×110×64 | 7×7×3, 2   | 9K    |115M  |\n",
    "|pool1  | 110×110×64 | 55×55×64   | 3×3×64, 2  | 0     |      |\n",
    "|rnorm1 | 55×55×64   | 55×55×64   | 0          |       |      |\n",
    "|conv2a | 55×55×64   | 55×55×64   | 1×1×64, 1  | 4K    | 13M  |\n",
    "|conv2  | 55×55×64   | 55×55×192  | 3×3×64, 1  | 111K  | 335M |\n",
    "|rnorm2 | 55×55×192  | 55×55×192  | 0          |       |      |\n",
    "|pool2  | 55×55×192  | 28×28×192  | 3×3×192, 2 | 0     |      |\n",
    "|conv3a | 28×28×192  | 28×28×192  | 1×1×192, 1 | 37K   | 29M  |\n",
    "|conv3  | 28×28×192  | 28×28×384  | 3×3×192, 1 | 664K  | 521M |\n",
    "|pool3  | 28×28×384  | 14×14×384  | 3×3×384, 2 | 0     |      |\n",
    "|conv4a | 14×14×384  | 14×14×384  | 1×1×384, 1 | 148K  | 29M  |\n",
    "|conv4  | 14×14×384  | 14×14×256  | 3×3×384, 1 | 885K  | 173M |\n",
    "|conv5a | 14×14×256  | 14×14×256  | 1×1×256, 1 | 66K   | 13M  |\n",
    "|conv5  | 14×14×256  | 14×14×256  | 3×3×256, 1 | 590K  | 116M |\n",
    "|conv6a | 14×14×256  | 14×14×256  | 1×1×256, 1 | 66K   | 13M  |\n",
    "|conv6  | 14×14×256  | 14×14×256  | 3×3×256, 1 | 590K  | 116M |\n",
    "|pool4  | 14×14×256  | 7×7×256    | 3×3×256, 2 | 0     |      |\n",
    "|concat | 7×7×256    | 7×7×256    | 0          |       |      |\n",
    "|fc1    | 7×7×256    | 1×32×128   | maxout p=2 | 103M  | 103M |\n",
    "|fc2    | 1×32×128   | 1×32×128   | maxout p=2 | 34M   | 34M  |\n",
    "|fc7128 | 1×32×128   | 1×1×128    | 524K 0.5M  |       |      |\n",
    "|L2     | 1×1×128    | 1×1×128    | 0          |       |      | -->"
   ]
  },
  {
   "cell_type": "code",
   "execution_count": null,
   "metadata": {},
   "outputs": [],
   "source": [
    "d = 32"
   ]
  },
  {
   "cell_type": "code",
   "execution_count": null,
   "metadata": {
    "scrolled": false
   },
   "outputs": [],
   "source": [
    "def base_network(d=d):\n",
    "\n",
    "    _input = Input(shape=(110,110,3))\n",
    "\n",
    "    a_conv0 = Conv2D(32,3,activation=\"relu\",padding=\"same\")(_input)\n",
    "    a_conv1 = Conv2D(32,3,activation=\"relu\",padding=\"same\")(a_conv0)\n",
    "    a_conv2 = Conv2D(32,3,activation=\"relu\",padding=\"same\")(a_conv1)\n",
    "    a_conc = concatenate([a_conv0,a_conv2,a_conv2])\n",
    "    a_pool = MaxPool2D()(a_conc)\n",
    "\n",
    "    b_conv0 = Conv2D(32,3,activation=\"relu\",padding=\"same\")(a_pool)\n",
    "    b_conv1 = Conv2D(32,3,activation=\"relu\",padding=\"same\")(b_conv0)\n",
    "    b_conv2 = Conv2D(32,3,activation=\"relu\",padding=\"same\")(b_conv1)\n",
    "    b_conc = concatenate([a_pool,b_conv0,b_conv2,b_conv2])\n",
    "    b_pool = MaxPool2D()(b_conc)\n",
    "\n",
    "    c_conv0 = Conv2D(64,3,activation=\"relu\",padding=\"same\")(b_pool)\n",
    "    c_conv1 = Conv2D(64,3,activation=\"relu\",padding=\"same\")(c_conv0)\n",
    "    c_conv2 = Conv2D(64,3,activation=\"relu\",padding=\"same\")(c_conv1)\n",
    "    c_conc = concatenate([b_pool,c_conv0,c_conv2,c_conv2])\n",
    "    c_pool = MaxPool2D()(c_conc)\n",
    "\n",
    "    d_conv0 = Conv2D(64,3,activation=\"relu\",padding=\"same\")(c_pool)\n",
    "    d_conv1 = Conv2D(64,3,activation=\"relu\",padding=\"same\")(d_conv0)\n",
    "    d_conv2 = Conv2D(64,3,activation=\"relu\",padding=\"same\")(d_conv1)\n",
    "    d_conc = concatenate([c_pool,d_conv0,d_conv2,d_conv2])\n",
    "    d_pool = MaxPool2D()(d_conc)\n",
    "\n",
    "    e_conv0 = Conv2D(128,3,activation=\"relu\",padding=\"same\")(d_pool)\n",
    "    e_conv1 = Conv2D(128,3,activation=\"relu\",padding=\"same\")(e_conv0)\n",
    "    e_conv2 = Conv2D(128,3,activation=\"relu\",padding=\"same\")(e_conv1)\n",
    "    e_conc = concatenate([d_pool,e_conv0,e_conv1,e_conv2])\n",
    "    e_pool = MaxPool2D()(e_conc)\n",
    "\n",
    "    f_conv0 = Conv2D(256,3,activation=\"relu\",padding=\"same\")(e_pool)\n",
    "    f_conv1 = Conv2D(256,3,activation=\"relu\",padding=\"same\")(f_conv0)\n",
    "    f_conv2 = Conv2D(256,3,activation=\"relu\",padding=\"same\")(f_conv1)\n",
    "    f_conc = concatenate([f_conv0,f_conv1,f_conv2])\n",
    "    f_pool = MaxPool2D()(f_conc)\n",
    "\n",
    "    dense = Flatten()(f_pool)\n",
    "    dense = Dense(512,activation=\"linear\")(dense)\n",
    "    dense = Dense(d,activation=\"tanh\")(dense)\n",
    "\n",
    "    dense = tf.multiply(dense,32)\n",
    "    \n",
    "    model = keras.Model(_input,dense)\n",
    "    return model"
   ]
  },
  {
   "cell_type": "markdown",
   "metadata": {},
   "source": [
    "### Pairs"
   ]
  },
  {
   "cell_type": "code",
   "execution_count": null,
   "metadata": {},
   "outputs": [],
   "source": [
    "class Pairs(object):\n",
    "    def __init__(self,model,x,y):\n",
    "        assert len(x) == len(y)\n",
    "        self.x = x.reshape(-1,*x[0].shape[:2],3)\n",
    "        self.y = y\n",
    "        self.model = model\n",
    "        self.dummy = np.array([[0]])\n",
    "        \n",
    "    def get_pair(self,e,x,y):\n",
    "        a = x.reshape(1,110,110,3)\n",
    "        \n",
    "        p_index = np.where(self.y == y)\n",
    "        n_index = np.where(self.y != y)\n",
    "\n",
    "        p = self.epoch_enc[p_index]\n",
    "        n = self.epoch_enc[n_index]\n",
    "\n",
    "        p_dist = np.sum(np.square(p - e),axis=1).argmax()\n",
    "        n_dist = np.sum(np.square(n - e),axis=1).argmin()\n",
    "\n",
    "        p = self.x[p_index][p_dist].reshape(1,110,110,3)\n",
    "        n = self.x[n_index][n_dist].reshape(1,110,110,3)\n",
    "        \n",
    "        return np.array([a,p,n])\n",
    "        \n",
    "    def flow(self,epochs=1):\n",
    "        for epoch in range(epochs):\n",
    "            self.epoch_enc = self.model.predict(self.x,batch_size=600)\n",
    "            _iter = zip(self.epoch_enc,self.x,self.y)#,total=len(self.epoch_enc))\n",
    "            this_batch = np.array([self.get_pair(e,x,y) for e,x,y in _iter])\n",
    "            for a,p,n in this_batch:\n",
    "                yield (a,p,n),self.dummy"
   ]
  },
  {
   "cell_type": "code",
   "execution_count": null,
   "metadata": {},
   "outputs": [],
   "source": [
    "class Pairs(object):\n",
    "    def __init__(self,model:tf.keras.Model,x:np.ndarray,y:np.ndarray,size:int=110):\n",
    "        assert len(x) == len(y)\n",
    "        self.x = x.reshape(-1,*x[0].shape[:2],3)\n",
    "        self.y = y\n",
    "        self.model = model\n",
    "        self.dummy = np.array([[0]])\n",
    "        self.size = size\n",
    "        \n",
    "    def get_pair(self,e,x,y):\n",
    "        a = x.reshape(1,self.size,self.size,3)\n",
    "        \n",
    "        p_index = np.where(self.y == y)\n",
    "        n_index = np.where(self.y != y)\n",
    "\n",
    "        p = self.epoch_enc[p_index]\n",
    "        n = self.epoch_enc[n_index]\n",
    "\n",
    "        p_dist = np.sum(np.square(p - e),axis=1).argmax()\n",
    "        n_dist = np.sum(np.square(n - e),axis=1).argmin()\n",
    "\n",
    "        p = self.x[p_index][p_dist].reshape(1,self.size,self.size,3)\n",
    "        n = self.x[n_index][n_dist].reshape(1,self.size,self.size,3)\n",
    "        \n",
    "        return np.array([a,p,n])\n",
    "        \n",
    "    def flow(self,epochs=1):\n",
    "        for epoch in range(epochs):\n",
    "            self.epoch_enc = self.model.predict(self.x,batch_size=600)\n",
    "            _iter = zip(self.epoch_enc,self.x,self.y)\n",
    "            for e,x,y in _iter:\n",
    "                yield (*self.get_pair(e,x,y),),self.dummy"
   ]
  },
  {
   "cell_type": "markdown",
   "metadata": {},
   "source": [
    "<!-- class Pairs(tf.Module):\n",
    "        def __init__(self,net,x,y):\n",
    "            self.net = net\n",
    "            self.x = tf.constant(x.reshape(-1,*x[0].shape[:2],1).copy(),tf.float32)\n",
    "            self.y = tf.constant(y.copy(),tf.uint8)       \n",
    "            self.y_ = tf.argmax(self.y,axis=1)\n",
    "            self.range_tensor = tf.range(0,len(x),dtype=tf.int32)\n",
    "            self.dummy = tf.constant([[0]],dtype=tf.float32)\n",
    "            \n",
    "        def __repr__(self,):\n",
    "            return \"Pairs Generator\"\n",
    "            \n",
    "        @tf.function\n",
    "        def l2(self,x,y):\n",
    "            return tf.square(tf.subtract(x,y))\n",
    "        \n",
    "        @tf.function\n",
    "        def get_pair(self,i):\n",
    "            \n",
    "            x = tf.slice(self.x,[i,0,0,0],[1,-1,-1,-1])\n",
    "            y = tf.slice(self.y_,[i],[1])\n",
    "            e = tf.slice(self.epoch_emb,[i,0],[1,-1])\n",
    "    \n",
    "            p_index = tf.equal(y,self.y_)\n",
    "            n_index = tf.not_equal(y,self.y_)\n",
    "    \n",
    "            p_dist = self.epoch_emb[p_index]\n",
    "            n_dist = self.epoch_emb[n_index]\n",
    "    \n",
    "            p = tf.argmax(tf.reduce_sum(tf.square(tf.subtract(e,p_dist)),axis=1))\n",
    "            n = tf.argmin(tf.reduce_sum(tf.square(tf.subtract(e,n_dist)),axis=1))\n",
    "            \n",
    "            p = tf.expand_dims(self.x[p_index][p],0)\n",
    "            n = tf.expand_dims(self.x[n_index][n],0)\n",
    "    \n",
    "            return (x,p,n),self.dummy\n",
    "        \n",
    "        def flow(self,epochs):\n",
    "            for epoch in range(epochs):\n",
    "                self.epoch_emb = tf.constant(self.net.predict(self.x,batch_size=512),tf.float32)\n",
    "                for i in self.range_tensor:\n",
    "                    yield self.get_pair(i)\n",
    "                    \" -->"
   ]
  },
  {
   "cell_type": "code",
   "execution_count": null,
   "metadata": {},
   "outputs": [],
   "source": [
    "model = base_network()\n",
    "pairs = Pairs(model,dataset.x,dataset.y)"
   ]
  },
  {
   "cell_type": "code",
   "execution_count": null,
   "metadata": {},
   "outputs": [],
   "source": [
    "flow = pairs.flow(1)"
   ]
  },
  {
   "cell_type": "code",
   "execution_count": null,
   "metadata": {
    "scrolled": false
   },
   "outputs": [],
   "source": [
    "fig,axes = plt.subplots(3,3,figsize=(12,12))\n",
    "\n",
    "for ax in axes:\n",
    "    (a,p,n),r = next(flow)\n",
    "    ax[0].imshow(a.reshape(110,110,3))\n",
    "    ax[1].imshow(p.reshape(110,110,3))\n",
    "    ax[2].imshow(n.reshape(110,110,3))"
   ]
  },
  {
   "cell_type": "markdown",
   "metadata": {},
   "source": [
    "### Triplet Loss"
   ]
  },
  {
   "cell_type": "markdown",
   "metadata": {},
   "source": [
    "### Triplet "
   ]
  },
  {
   "cell_type": "markdown",
   "metadata": {},
   "source": [
    "![](triplet.png)"
   ]
  },
  {
   "cell_type": "code",
   "execution_count": null,
   "metadata": {},
   "outputs": [],
   "source": [
    "class Triplet(tf.Module):\n",
    "    \"\"\"\n",
    "    Triplet Loss\n",
    "    \"\"\"\n",
    "    __name__ = \"TripletLoss\"\n",
    "    def __init__(self,margin=.75):\n",
    "        self.margin = margin\n",
    "        \n",
    "    @tf.function\n",
    "    def l2(self,x,y):\n",
    "        return tf.reduce_sum(tf.square(tf.subtract(x,y)))\n",
    "    \n",
    "    @tf.function\n",
    "    def __call__(self,y_true,y_pred,*args,**kwargs):\n",
    "        a,p,n = tf.unstack(tf.reshape(y_pred,(3,-1,d)))\n",
    "        \n",
    "        Dp = self.l2(a,p)\n",
    "        Dn = self.l2(a,n)\n",
    "        \n",
    "        return tf.nn.relu(Dp - Dn + self.margin)"
   ]
  },
  {
   "cell_type": "code",
   "execution_count": null,
   "metadata": {},
   "outputs": [],
   "source": [
    "model = base_network()\n",
    "\n",
    "a_inp = Input(shape=(110,110,3),name=\"anc\")\n",
    "p_inp = Input(shape=(110,110,3),name=\"pos\")\n",
    "n_inp = Input(shape=(110,110,3),name=\"neg\")\n",
    "\n",
    "a_net = model(a_inp)\n",
    "p_net = model(p_inp)\n",
    "n_net = model(n_inp)\n",
    "\n",
    "out = concatenate([a_net,p_net,n_net],name=\"out\")\n",
    "train = keras.Model([a_inp,p_inp,n_inp],out)"
   ]
  },
  {
   "cell_type": "code",
   "execution_count": null,
   "metadata": {},
   "outputs": [],
   "source": [
    "class EpochOutputSave(Callback):\n",
    "    tsne = TSNE(2)\n",
    "    def on_epoch_end(self,epoch,log,*args,**kwrags):\n",
    "        p = model.predict(x,batch_size=5)\n",
    "        a = self.tsne.fit_transform(p)\n",
    "        fig = plt.figure(figsize=(13,10))\n",
    "        sns.scatterplot(a[:,0],a[:,1],hue=y)\n",
    "        plt.legend(\"off\")\n",
    "        plt.title(f\"epoch : {epoch} | loss : {log['loss']}\")\n",
    "        fig.savefig(f\"../doc/epoch/facenet/{epoch}.jpg\")\n",
    "        plt.close()        "
   ]
  },
  {
   "cell_type": "code",
   "execution_count": null,
   "metadata": {},
   "outputs": [],
   "source": [
    "class EpochHandler(Callback):\n",
    "    def __init__(self):\n",
    "        self.loss_history = [*list(range(5))]\n",
    "        \n",
    "    def on_epoch_end(self,epoch,logs=dict()):\n",
    "        epoch_loss = logs.get('loss')\n",
    "        self.loss_history.append(epoch_loss)\n",
    "        if sum(self.loss_history[-3:]) == 0:\n",
    "            self.model.stop_training = True \n",
    "            print (f\"Stopped Training At {epoch} Epochs.\")"
   ]
  },
  {
   "cell_type": "code",
   "execution_count": null,
   "metadata": {},
   "outputs": [],
   "source": [
    "ckp = ModelCheckpoint(filepath=\"./checkpoints/facenet\",save_weights_only=True)\n",
    "save = EpochOutputSave()"
   ]
  },
  {
   "cell_type": "code",
   "execution_count": null,
   "metadata": {},
   "outputs": [],
   "source": [
    "eh = EpochHandler()"
   ]
  },
  {
   "cell_type": "code",
   "execution_count": null,
   "metadata": {},
   "outputs": [],
   "source": [
    "pairs = Pairs(model,dataset.x,dataset.y)"
   ]
  },
  {
   "cell_type": "code",
   "execution_count": null,
   "metadata": {},
   "outputs": [],
   "source": [
    "opt = keras.optimizers.Adagrad(.0001)"
   ]
  },
  {
   "cell_type": "code",
   "execution_count": null,
   "metadata": {},
   "outputs": [],
   "source": [
    "triplet = Triplet(margin=8)"
   ]
  },
  {
   "cell_type": "code",
   "execution_count": null,
   "metadata": {},
   "outputs": [],
   "source": [
    "train.compile(optimizer=opt,loss=triplet)"
   ]
  },
  {
   "cell_type": "code",
   "execution_count": null,
   "metadata": {},
   "outputs": [],
   "source": [
    "epochs = 250"
   ]
  },
  {
   "cell_type": "code",
   "execution_count": null,
   "metadata": {},
   "outputs": [],
   "source": [
    "flow = pairs.flow(epochs=epochs)"
   ]
  },
  {
   "cell_type": "code",
   "execution_count": null,
   "metadata": {
    "scrolled": true
   },
   "outputs": [],
   "source": [
    "history = train.fit_generator(flow,steps_per_epoch=len(dataset.x),epochs=epochs,callbacks=[eh])"
   ]
  },
  {
   "cell_type": "code",
   "execution_count": null,
   "metadata": {},
   "outputs": [],
   "source": [
    "p = model.predict(dataset.x,batch_size=32)"
   ]
  },
  {
   "cell_type": "code",
   "execution_count": null,
   "metadata": {},
   "outputs": [],
   "source": [
    "tsne = TSNE(2,)"
   ]
  },
  {
   "cell_type": "code",
   "execution_count": null,
   "metadata": {},
   "outputs": [],
   "source": [
    "a = tsne.fit_transform(p)"
   ]
  },
  {
   "cell_type": "code",
   "execution_count": null,
   "metadata": {
    "scrolled": false
   },
   "outputs": [],
   "source": [
    "fig = plt.figure(figsize=(13,10))\n",
    "sns.scatterplot(a[:,0],a[:,1],hue=dataset.y,)\n",
    "plt.legend(\"off\")\n",
    "plt.title(\"Final Output\")"
   ]
  },
  {
   "cell_type": "code",
   "execution_count": null,
   "metadata": {},
   "outputs": [],
   "source": [
    "tsne = TSNE(3,)\n",
    "a = tsne.fit_transform(p)"
   ]
  },
  {
   "cell_type": "code",
   "execution_count": null,
   "metadata": {},
   "outputs": [],
   "source": [
    "label = [i.split(\"\\\\\")[-1] for i in dataset.y]"
   ]
  },
  {
   "cell_type": "code",
   "execution_count": null,
   "metadata": {},
   "outputs": [],
   "source": [
    "ex.scatter_3d(x=a[:,0],y=a[:,1],z=a[:,2],color=label)"
   ]
  },
  {
   "cell_type": "code",
   "execution_count": null,
   "metadata": {},
   "outputs": [],
   "source": [
    "# fig.savefig(\"../doc/2d_cluster.jpg\")"
   ]
  },
  {
   "cell_type": "code",
   "execution_count": null,
   "metadata": {},
   "outputs": [],
   "source": [
    "# open(\"./checkpoints/facenet.json\",\"w+\").write(model.to_json())"
   ]
  },
  {
   "cell_type": "markdown",
   "metadata": {},
   "source": [
    "### Testing On Faces"
   ]
  },
  {
   "cell_type": "code",
   "execution_count": null,
   "metadata": {},
   "outputs": [],
   "source": [
    "def mse(x,y):\n",
    "    return np.mean(np.square(np.subtract(x,y)))"
   ]
  },
  {
   "cell_type": "code",
   "execution_count": null,
   "metadata": {
    "scrolled": false
   },
   "outputs": [],
   "source": [
    "i = 3\n",
    "\n",
    "face = x[i].copy()\n",
    "\n",
    "face_true = model.predict(face.reshape(1,110,110,3))\n",
    "fig,axes = plt.subplots(5,2,figsize=(12,35))\n",
    "\n",
    "index = np.random.randint(0,len(x),5)\n",
    "\n",
    "for (ax0,ax1),j in zip(axes,index):\n",
    "    img = x[j]\n",
    "    enc = model.predict(img.reshape(1,110,110,3))\n",
    "    dist = mse(face_true,enc)\n",
    "    ax0.imshow(face)\n",
    "    ax1.imshow(img)\n",
    "    ax1.set_title(f\"Distance : {dist}\")\n",
    "    \n",
    "    ax0.axis(\"off\")\n",
    "    ax1.axis(\"off\")\n",
    "\n",
    "face_next = x[i+1]\n",
    "enc = model.predict(face_next.reshape(1,110,110,3))\n",
    "\n",
    "dist = mse(face_true,enc)\n",
    "axes[0,0].imshow(face)\n",
    "axes[0,1].imshow(face_next)\n",
    "axes[0,1].set_title(f\"Distance : {dist}\")"
   ]
  },
  {
   "cell_type": "code",
   "execution_count": null,
   "metadata": {},
   "outputs": [],
   "source": [
    "fig.savefig(\"../doc/test.jpg\")"
   ]
  }
 ],
 "metadata": {
  "kernelspec": {
   "display_name": "Python 3",
   "language": "python",
   "name": "python3"
  },
  "language_info": {
   "codemirror_mode": {
    "name": "ipython",
    "version": 3
   },
   "file_extension": ".py",
   "mimetype": "text/x-python",
   "name": "python",
   "nbconvert_exporter": "python",
   "pygments_lexer": "ipython3",
   "version": "3.6.8"
  }
 },
 "nbformat": 4,
 "nbformat_minor": 4
}
