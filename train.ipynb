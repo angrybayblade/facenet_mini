{
 "cells": [
  {
   "cell_type": "code",
   "execution_count": 1,
   "metadata": {},
   "outputs": [],
   "source": [
    "import facenet_mini as fm"
   ]
  },
  {
   "cell_type": "code",
   "execution_count": 2,
   "metadata": {},
   "outputs": [],
   "source": [
    "import seaborn as sns\n",
    "import matplotlib.pyplot as plt\n",
    "from sklearn.manifold import TSNE\n",
    "\n",
    "%matplotlib inline"
   ]
  },
  {
   "cell_type": "code",
   "execution_count": 3,
   "metadata": {},
   "outputs": [],
   "source": [
    "path = \"./notebooks/images/train/\"\n",
    "n_faces = 100\n",
    "\n",
    "vector_length = 32\n",
    "multiplication_factor = 64\n",
    "\n",
    "margin = 16\n",
    "epochs = 250"
   ]
  },
  {
   "cell_type": "code",
   "execution_count": 4,
   "metadata": {},
   "outputs": [],
   "source": [
    "dataset = fm.Dataset(path=path,n_faces=n_faces)"
   ]
  },
  {
   "cell_type": "code",
   "execution_count": 5,
   "metadata": {},
   "outputs": [
    {
     "name": "stderr",
     "output_type": "stream",
     "text": [
      "100%|██████████| 300/300 [00:00<00:00, 366.55it/s]\n"
     ]
    },
    {
     "data": {
      "text/plain": [
       "Dataset Parser @ /storage/facenet_mini/notebooks/images/train"
      ]
     },
     "execution_count": 5,
     "metadata": {},
     "output_type": "execute_result"
    }
   ],
   "source": [
    "dataset.parse()"
   ]
  },
  {
   "cell_type": "code",
   "execution_count": 6,
   "metadata": {},
   "outputs": [],
   "source": [
    "model = fm.base_network(vector_length=vector_length,multiplication_factor=multiplication_factor)"
   ]
  },
  {
   "cell_type": "code",
   "execution_count": 7,
   "metadata": {
    "scrolled": true
   },
   "outputs": [
    {
     "name": "stdout",
     "output_type": "stream",
     "text": [
      "Model: \"model\"\n",
      "__________________________________________________________________________________________________\n",
      "Layer (type)                    Output Shape         Param #     Connected to                     \n",
      "==================================================================================================\n",
      "input_1 (InputLayer)            [(None, 110, 110, 3) 0                                            \n",
      "__________________________________________________________________________________________________\n",
      "conv_0_a (Conv2D)               (None, 110, 110, 32) 896         input_1[0][0]                    \n",
      "__________________________________________________________________________________________________\n",
      "conv_1_a (Conv2D)               (None, 110, 110, 32) 9248        conv_0_a[0][0]                   \n",
      "__________________________________________________________________________________________________\n",
      "conv_2_a (Conv2D)               (None, 110, 110, 32) 9248        conv_1_a[0][0]                   \n",
      "__________________________________________________________________________________________________\n",
      "conc_a (Concatenate)            (None, 110, 110, 96) 0           conv_0_a[0][0]                   \n",
      "                                                                 conv_2_a[0][0]                   \n",
      "                                                                 conv_2_a[0][0]                   \n",
      "__________________________________________________________________________________________________\n",
      "norm_a (BatchNormalization)     (None, 110, 110, 96) 384         conc_a[0][0]                     \n",
      "__________________________________________________________________________________________________\n",
      "drop_a (Dropout)                (None, 110, 110, 96) 0           norm_a[0][0]                     \n",
      "__________________________________________________________________________________________________\n",
      "pool_a (MaxPooling2D)           (None, 55, 55, 96)   0           drop_a[0][0]                     \n",
      "__________________________________________________________________________________________________\n",
      "conv_0_b (Conv2D)               (None, 55, 55, 32)   27680       pool_a[0][0]                     \n",
      "__________________________________________________________________________________________________\n",
      "conv_1_b (Conv2D)               (None, 55, 55, 32)   9248        conv_0_b[0][0]                   \n",
      "__________________________________________________________________________________________________\n",
      "conv_2_b (Conv2D)               (None, 55, 55, 32)   9248        conv_1_b[0][0]                   \n",
      "__________________________________________________________________________________________________\n",
      "conc_b (Concatenate)            (None, 55, 55, 96)   0           conv_0_b[0][0]                   \n",
      "                                                                 conv_2_b[0][0]                   \n",
      "                                                                 conv_2_b[0][0]                   \n",
      "__________________________________________________________________________________________________\n",
      "norm_b (BatchNormalization)     (None, 55, 55, 96)   384         conc_b[0][0]                     \n",
      "__________________________________________________________________________________________________\n",
      "drop_b (Dropout)                (None, 55, 55, 96)   0           norm_b[0][0]                     \n",
      "__________________________________________________________________________________________________\n",
      "pool_b (MaxPooling2D)           (None, 27, 27, 96)   0           drop_b[0][0]                     \n",
      "__________________________________________________________________________________________________\n",
      "conv_0_c (Conv2D)               (None, 27, 27, 64)   55360       pool_b[0][0]                     \n",
      "__________________________________________________________________________________________________\n",
      "conv_1_c (Conv2D)               (None, 27, 27, 64)   36928       conv_0_c[0][0]                   \n",
      "__________________________________________________________________________________________________\n",
      "conv_2_c (Conv2D)               (None, 27, 27, 64)   36928       conv_1_c[0][0]                   \n",
      "__________________________________________________________________________________________________\n",
      "conc_c (Concatenate)            (None, 27, 27, 192)  0           conv_0_c[0][0]                   \n",
      "                                                                 conv_2_c[0][0]                   \n",
      "                                                                 conv_2_c[0][0]                   \n",
      "__________________________________________________________________________________________________\n",
      "norm_c (BatchNormalization)     (None, 27, 27, 192)  768         conc_c[0][0]                     \n",
      "__________________________________________________________________________________________________\n",
      "drop_c (Dropout)                (None, 27, 27, 192)  0           norm_c[0][0]                     \n",
      "__________________________________________________________________________________________________\n",
      "pool_c (MaxPooling2D)           (None, 13, 13, 192)  0           drop_c[0][0]                     \n",
      "__________________________________________________________________________________________________\n",
      "conv_0_d (Conv2D)               (None, 13, 13, 64)   110656      pool_c[0][0]                     \n",
      "__________________________________________________________________________________________________\n",
      "conv_1_d (Conv2D)               (None, 13, 13, 64)   36928       conv_0_d[0][0]                   \n",
      "__________________________________________________________________________________________________\n",
      "conv_2_d (Conv2D)               (None, 13, 13, 64)   36928       conv_1_d[0][0]                   \n",
      "__________________________________________________________________________________________________\n",
      "conc_d (Concatenate)            (None, 13, 13, 192)  0           conv_0_d[0][0]                   \n",
      "                                                                 conv_2_d[0][0]                   \n",
      "                                                                 conv_2_d[0][0]                   \n",
      "__________________________________________________________________________________________________\n",
      "norm_d (BatchNormalization)     (None, 13, 13, 192)  768         conc_d[0][0]                     \n",
      "__________________________________________________________________________________________________\n",
      "drop_d (Dropout)                (None, 13, 13, 192)  0           norm_d[0][0]                     \n",
      "__________________________________________________________________________________________________\n",
      "pool_d (MaxPooling2D)           (None, 6, 6, 192)    0           drop_d[0][0]                     \n",
      "__________________________________________________________________________________________________\n",
      "conv_0_e (Conv2D)               (None, 6, 6, 128)    221312      pool_d[0][0]                     \n",
      "__________________________________________________________________________________________________\n",
      "conv_1_e (Conv2D)               (None, 6, 6, 128)    147584      conv_0_e[0][0]                   \n",
      "__________________________________________________________________________________________________\n",
      "conv_2_e (Conv2D)               (None, 6, 6, 128)    147584      conv_1_e[0][0]                   \n",
      "__________________________________________________________________________________________________\n",
      "conc_e (Concatenate)            (None, 6, 6, 384)    0           conv_0_e[0][0]                   \n",
      "                                                                 conv_2_e[0][0]                   \n",
      "                                                                 conv_2_e[0][0]                   \n",
      "__________________________________________________________________________________________________\n",
      "norm_e (BatchNormalization)     (None, 6, 6, 384)    1536        conc_e[0][0]                     \n",
      "__________________________________________________________________________________________________\n",
      "drop_e (Dropout)                (None, 6, 6, 384)    0           norm_e[0][0]                     \n",
      "__________________________________________________________________________________________________\n",
      "pool_e (MaxPooling2D)           (None, 3, 3, 384)    0           drop_e[0][0]                     \n",
      "__________________________________________________________________________________________________\n",
      "conv_0_f (Conv2D)               (None, 3, 3, 256)    884992      pool_e[0][0]                     \n",
      "__________________________________________________________________________________________________\n",
      "conv_1_f (Conv2D)               (None, 3, 3, 256)    590080      conv_0_f[0][0]                   \n",
      "__________________________________________________________________________________________________\n",
      "conv_2_f (Conv2D)               (None, 3, 3, 256)    590080      conv_1_f[0][0]                   \n",
      "__________________________________________________________________________________________________\n",
      "conc_f (Concatenate)            (None, 3, 3, 768)    0           conv_0_f[0][0]                   \n",
      "                                                                 conv_2_f[0][0]                   \n",
      "                                                                 conv_2_f[0][0]                   \n",
      "__________________________________________________________________________________________________\n",
      "norm_f (BatchNormalization)     (None, 3, 3, 768)    3072        conc_f[0][0]                     \n",
      "__________________________________________________________________________________________________\n",
      "drop_f (Dropout)                (None, 3, 3, 768)    0           norm_f[0][0]                     \n",
      "__________________________________________________________________________________________________\n",
      "pool_f (MaxPooling2D)           (None, 1, 1, 768)    0           drop_f[0][0]                     \n",
      "__________________________________________________________________________________________________\n",
      "flatten (Flatten)               (None, 768)          0           pool_f[0][0]                     \n",
      "__________________________________________________________________________________________________\n",
      "dense (Dense)                   (None, 512)          393728      flatten[0][0]                    \n",
      "__________________________________________________________________________________________________\n",
      "dense_1 (Dense)                 (None, 32)           16416       dense[0][0]                      \n",
      "__________________________________________________________________________________________________\n",
      "tf_op_layer_Mul (TensorFlowOpLa [(None, 32)]         0           dense_1[0][0]                    \n",
      "==================================================================================================\n",
      "Total params: 3,377,984\n",
      "Trainable params: 3,374,528\n",
      "Non-trainable params: 3,456\n",
      "__________________________________________________________________________________________________\n"
     ]
    }
   ],
   "source": [
    "model.summary()"
   ]
  },
  {
   "cell_type": "code",
   "execution_count": 8,
   "metadata": {},
   "outputs": [],
   "source": [
    "train = fm.net.builder(model=model)"
   ]
  },
  {
   "cell_type": "code",
   "execution_count": 9,
   "metadata": {},
   "outputs": [
    {
     "name": "stdout",
     "output_type": "stream",
     "text": [
      "Model: \"triplet_trainig\"\n",
      "__________________________________________________________________________________________________\n",
      "Layer (type)                    Output Shape         Param #     Connected to                     \n",
      "==================================================================================================\n",
      "anc (InputLayer)                [(None, 110, 110, 3) 0                                            \n",
      "__________________________________________________________________________________________________\n",
      "pos (InputLayer)                [(None, 110, 110, 3) 0                                            \n",
      "__________________________________________________________________________________________________\n",
      "neg (InputLayer)                [(None, 110, 110, 3) 0                                            \n",
      "__________________________________________________________________________________________________\n",
      "model (Model)                   (None, 32)           3377984     anc[0][0]                        \n",
      "                                                                 pos[0][0]                        \n",
      "                                                                 neg[0][0]                        \n",
      "__________________________________________________________________________________________________\n",
      "out (Concatenate)               (None, 96)           0           model[1][0]                      \n",
      "                                                                 model[2][0]                      \n",
      "                                                                 model[3][0]                      \n",
      "==================================================================================================\n",
      "Total params: 3,377,984\n",
      "Trainable params: 3,374,528\n",
      "Non-trainable params: 3,456\n",
      "__________________________________________________________________________________________________\n"
     ]
    }
   ],
   "source": [
    "train.summary()"
   ]
  },
  {
   "cell_type": "code",
   "execution_count": 10,
   "metadata": {},
   "outputs": [],
   "source": [
    "pairs = fm.Pairs(model,dataset.x,dataset.y,)"
   ]
  },
  {
   "cell_type": "code",
   "execution_count": 11,
   "metadata": {},
   "outputs": [],
   "source": [
    "loss = fm.Triplet(margin=margin,vector_length=vector_length)"
   ]
  },
  {
   "cell_type": "code",
   "execution_count": 12,
   "metadata": {},
   "outputs": [],
   "source": [
    "opt = fm.net.Adagrad(0.0001)"
   ]
  },
  {
   "cell_type": "code",
   "execution_count": 13,
   "metadata": {},
   "outputs": [],
   "source": [
    "eh = fm.net.StopTraining()"
   ]
  },
  {
   "cell_type": "code",
   "execution_count": 14,
   "metadata": {},
   "outputs": [],
   "source": [
    "f = pairs.flow(epochs=epochs)"
   ]
  },
  {
   "cell_type": "code",
   "execution_count": 15,
   "metadata": {},
   "outputs": [],
   "source": [
    "train.compile(optimizer=opt,loss=loss)"
   ]
  },
  {
   "cell_type": "code",
   "execution_count": null,
   "metadata": {
    "scrolled": false
   },
   "outputs": [
    {
     "name": "stdout",
     "output_type": "stream",
     "text": [
      "WARNING:tensorflow:From <ipython-input-16-16b0d4e62b15>:1: Model.fit_generator (from tensorflow.python.keras.engine.training) is deprecated and will be removed in a future version.\n",
      "Instructions for updating:\n",
      "Please use Model.fit, which supports generators.\n",
      "Epoch 1/250\n",
      "300/300 [==============================] - 7s 22ms/step - loss: 4148.2485\n",
      "Epoch 2/250\n",
      "300/300 [==============================] - 7s 22ms/step - loss: 961.9244\n",
      "Epoch 3/250\n",
      "300/300 [==============================] - 7s 23ms/step - loss: 533.5890\n",
      "Epoch 4/250\n",
      "300/300 [==============================] - 7s 22ms/step - loss: 264.6157\n",
      "Epoch 5/250\n",
      "300/300 [==============================] - 7s 22ms/step - loss: 102.5069\n",
      "Epoch 6/250\n",
      "300/300 [==============================] - 7s 22ms/step - loss: 103.9467\n",
      "Epoch 7/250\n",
      "300/300 [==============================] - 7s 22ms/step - loss: 118.6768\n",
      "Epoch 8/250\n",
      "300/300 [==============================] - 7s 22ms/step - loss: 116.7358\n",
      "Epoch 9/250\n",
      "300/300 [==============================] - 7s 22ms/step - loss: 79.7865\n",
      "Epoch 10/250\n",
      "300/300 [==============================] - 7s 22ms/step - loss: 62.6871\n",
      "Epoch 11/250\n",
      "300/300 [==============================] - 7s 22ms/step - loss: 43.0995\n",
      "Epoch 12/250\n",
      "300/300 [==============================] - 7s 22ms/step - loss: 55.8779\n",
      "Epoch 13/250\n",
      "300/300 [==============================] - 7s 22ms/step - loss: 52.5800\n",
      "Epoch 14/250\n",
      "300/300 [==============================] - 7s 22ms/step - loss: 45.7578\n",
      "Epoch 15/250\n",
      "300/300 [==============================] - 7s 23ms/step - loss: 34.4652\n",
      "Epoch 16/250\n",
      "300/300 [==============================] - 7s 23ms/step - loss: 45.2030 0s - loss: 46.\n",
      "Epoch 17/250\n",
      "300/300 [==============================] - 7s 22ms/step - loss: 22.7281\n",
      "Epoch 18/250\n",
      "300/300 [==============================] - 7s 22ms/step - loss: 55.9878\n",
      "Epoch 19/250\n",
      "300/300 [==============================] - 7s 22ms/step - loss: 30.4926\n",
      "Epoch 20/250\n",
      "300/300 [==============================] - 7s 22ms/step - loss: 49.4580\n",
      "Epoch 21/250\n",
      "300/300 [==============================] - 7s 22ms/step - loss: 34.2169\n",
      "Epoch 22/250\n",
      "300/300 [==============================] - 7s 22ms/step - loss: 29.5526\n",
      "Epoch 23/250\n",
      "300/300 [==============================] - 7s 22ms/step - loss: 21.7032\n",
      "Epoch 24/250\n",
      "300/300 [==============================] - 7s 22ms/step - loss: 30.7930\n",
      "Epoch 25/250\n",
      "123/300 [===========>..................] - ETA: 3s - loss: 17.5034"
     ]
    }
   ],
   "source": [
    "train.fit_generator(f,epochs=epochs,steps_per_epoch=len(dataset.x),callbacks=[eh])"
   ]
  },
  {
   "cell_type": "code",
   "execution_count": null,
   "metadata": {},
   "outputs": [],
   "source": [
    "tsne = TSNE(2,)"
   ]
  },
  {
   "cell_type": "code",
   "execution_count": null,
   "metadata": {},
   "outputs": [],
   "source": [
    "emb = model.predict(dataset.x,batch_size=32)"
   ]
  },
  {
   "cell_type": "code",
   "execution_count": 46,
   "metadata": {},
   "outputs": [],
   "source": [
    "enc = tsne.fit_transform(emb,)"
   ]
  },
  {
   "cell_type": "code",
   "execution_count": 49,
   "metadata": {},
   "outputs": [
    {
     "data": {
      "text/plain": [
       "<matplotlib.legend.Legend at 0x27ab097b208>"
      ]
     },
     "execution_count": 49,
     "metadata": {},
     "output_type": "execute_result"
    },
    {
     "data": {
      "image/png": "[encoded data removed]",
      "text/plain": [
       "<Figure size 864x864 with 1 Axes>"
      ]
     },
     "metadata": {
      "needs_background": "light"
     },
     "output_type": "display_data"
    }
   ],
   "source": [
    "plt.figure(figsize=(12,12))\n",
    "sns.scatterplot(enc[:,0],enc[:,1],hue=dataset.y)\n",
    "\n",
    "plt.legend(\"off\")"
   ]
  },
  {
   "cell_type": "code",
   "execution_count": null,
   "metadata": {},
   "outputs": [],
   "source": []
  }
 ],
 "metadata": {
  "kernelspec": {
   "display_name": "Python 3",
   "language": "python",
   "name": "python3"
  },
  "language_info": {
   "codemirror_mode": {
    "name": "ipython",
    "version": 3
   },
   "file_extension": ".py",
   "mimetype": "text/x-python",
   "name": "python",
   "nbconvert_exporter": "python",
   "pygments_lexer": "ipython3",
   "version": "3.6.9"
  }
 },
 "nbformat": 4,
 "nbformat_minor": 4
}
