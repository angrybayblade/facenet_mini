{
 "cells": [
  {
   "cell_type": "code",
   "execution_count": 1,
   "metadata": {},
   "outputs": [],
   "source": [
    "import facenet_mini as fm\n",
    "import numpy as np\n",
    "\n",
    "import numpy as np\n",
    "import cv2\n",
    "\n",
    "from tqdm.cli import tqdm\n",
    "from os import walk,path as pathlib\n",
    "from glob import glob"
   ]
  },
  {
   "cell_type": "code",
   "execution_count": 2,
   "metadata": {},
   "outputs": [],
   "source": [
    "import seaborn as sns\n",
    "import matplotlib.pyplot as plt\n",
    "from sklearn.manifold import TSNE\n",
    "\n",
    "%matplotlib inline"
   ]
  },
  {
   "cell_type": "code",
   "execution_count": 14,
   "metadata": {},
   "outputs": [],
   "source": [
    "path = \"./notebooks/images/train/\"\n",
    "n_faces = 200\n",
    "\n",
    "vector_length = 64\n",
    "multiplication_factor = 256\n",
    "\n",
    "margin = 8\n",
    "epochs = 250\n",
    "batch_size = 16"
   ]
  },
  {
   "cell_type": "code",
   "execution_count": 15,
   "metadata": {},
   "outputs": [],
   "source": [
    "dataset = fm.Dataset(path=path,n_faces=n_faces)"
   ]
  },
  {
   "cell_type": "code",
   "execution_count": 16,
   "metadata": {},
   "outputs": [
    {
     "name": "stderr",
     "output_type": "stream",
     "text": [
      "100%|██████████| 600/600 [00:00<00:00, 688.70it/s]\n"
     ]
    },
    {
     "data": {
      "text/plain": [
       "Dataset Parser @ /storage/facenet_mini/notebooks/images/train"
      ]
     },
     "execution_count": 16,
     "metadata": {},
     "output_type": "execute_result"
    }
   ],
   "source": [
    "dataset.parse()"
   ]
  },
  {
   "cell_type": "code",
   "execution_count": 17,
   "metadata": {},
   "outputs": [],
   "source": [
    "model = fm.base_network(vector_length=vector_length,multiplication_factor=multiplication_factor)\n",
    "train = fm.net.builder(model=model)"
   ]
  },
  {
   "cell_type": "code",
   "execution_count": 18,
   "metadata": {},
   "outputs": [],
   "source": [
    "pairs = fm.Pairs(model,dataset.x,dataset.y,)"
   ]
  },
  {
   "cell_type": "code",
   "execution_count": 19,
   "metadata": {},
   "outputs": [],
   "source": [
    "loss = fm.Triplet(margin=margin,vector_length=vector_length)"
   ]
  },
  {
   "cell_type": "code",
   "execution_count": 20,
   "metadata": {},
   "outputs": [],
   "source": [
    "opt = fm.net.Adagrad(0.0001)"
   ]
  },
  {
   "cell_type": "code",
   "execution_count": 21,
   "metadata": {},
   "outputs": [],
   "source": [
    "eh = fm.net.StopTraining()"
   ]
  },
  {
   "cell_type": "code",
   "execution_count": 22,
   "metadata": {},
   "outputs": [],
   "source": [
    "f = pairs.flow(epochs=epochs)"
   ]
  },
  {
   "cell_type": "code",
   "execution_count": 23,
   "metadata": {},
   "outputs": [],
   "source": [
    "train.compile(optimizer=opt,loss=loss)"
   ]
  },
  {
   "cell_type": "code",
   "execution_count": null,
   "metadata": {
    "scrolled": false
   },
   "outputs": [
    {
     "name": "stdout",
     "output_type": "stream",
     "text": [
      "Epoch 1/250\n",
      "600/600 [==============================] - 24s 41ms/step - loss: 17.9706\n",
      "Epoch 2/250\n",
      "600/600 [==============================] - 25s 41ms/step - loss: 14.1550\n",
      "Epoch 3/250\n",
      "600/600 [==============================] - 25s 41ms/step - loss: 10.9007\n",
      "Epoch 4/250\n",
      "600/600 [==============================] - 25s 41ms/step - loss: 9.1947\n",
      "Epoch 5/250\n",
      "600/600 [==============================] - 25s 41ms/step - loss: 7.5540\n",
      "Epoch 6/250\n",
      "600/600 [==============================] - 24s 40ms/step - loss: 6.2945\n",
      "Epoch 7/250\n",
      "600/600 [==============================] - 25s 41ms/step - loss: 5.3528\n",
      "Epoch 8/250\n",
      "600/600 [==============================] - 24s 40ms/step - loss: 5.4367\n",
      "Epoch 9/250\n",
      "600/600 [==============================] - 25s 41ms/step - loss: 4.9416\n",
      "Epoch 10/250\n",
      "600/600 [==============================] - 24s 40ms/step - loss: 4.3942\n",
      "Epoch 11/250\n",
      "600/600 [==============================] - 25s 41ms/step - loss: 3.6331\n",
      "Epoch 12/250\n",
      "600/600 [==============================] - 24s 41ms/step - loss: 3.2497\n",
      "Epoch 13/250\n",
      "600/600 [==============================] - 24s 41ms/step - loss: 3.0487\n",
      "Epoch 14/250\n",
      "600/600 [==============================] - 25s 41ms/step - loss: 2.8900\n",
      "Epoch 15/250\n",
      "600/600 [==============================] - 24s 40ms/step - loss: 2.5616\n",
      "Epoch 16/250\n",
      "600/600 [==============================] - 24s 41ms/step - loss: 2.3814\n",
      "Epoch 17/250\n",
      "600/600 [==============================] - 24s 40ms/step - loss: 2.1168\n",
      "Epoch 18/250\n",
      "600/600 [==============================] - 25s 41ms/step - loss: 2.0275\n",
      "Epoch 19/250\n",
      "600/600 [==============================] - 24s 40ms/step - loss: 1.6802\n",
      "Epoch 20/250\n",
      "600/600 [==============================] - 24s 40ms/step - loss: 1.7398\n",
      "Epoch 21/250\n",
      "600/600 [==============================] - 25s 41ms/step - loss: 1.3590\n",
      "Epoch 22/250\n",
      "600/600 [==============================] - 24s 41ms/step - loss: 1.4912\n",
      "Epoch 23/250\n",
      "600/600 [==============================] - 25s 41ms/step - loss: 1.2107\n",
      "Epoch 24/250\n",
      "600/600 [==============================] - 25s 41ms/step - loss: 1.2252\n",
      "Epoch 25/250\n",
      "600/600 [==============================] - 24s 40ms/step - loss: 0.8968\n",
      "Epoch 26/250\n",
      "486/600 [=======================>......] - ETA: 4s - loss: 0.8457"
     ]
    }
   ],
   "source": [
    "train.fit_generator(f,epochs=epochs,steps_per_epoch=len(dataset.x),callbacks=[eh])"
   ]
  },
  {
   "cell_type": "code",
   "execution_count": null,
   "metadata": {},
   "outputs": [],
   "source": [
    "tsne = TSNE(2,)"
   ]
  },
  {
   "cell_type": "code",
   "execution_count": null,
   "metadata": {},
   "outputs": [],
   "source": [
    "emb = model.predict(dataset.x,batch_size=32)"
   ]
  },
  {
   "cell_type": "code",
   "execution_count": 17,
   "metadata": {},
   "outputs": [],
   "source": [
    "enc = tsne.fit_transform(emb,)"
   ]
  },
  {
   "cell_type": "code",
   "execution_count": 21,
   "metadata": {
    "scrolled": false
   },
   "outputs": [
    {
     "data": {
      "text/plain": [
       "Text(0.5, 1.0, 'Output')"
      ]
     },
     "execution_count": 21,
     "metadata": {},
     "output_type": "execute_result"
    },
    {
     "data": {
      "image/png": "[encoded data removed]",
      "text/plain": [
       "<Figure size 864x864 with 1 Axes>"
      ]
     },
     "metadata": {
      "needs_background": "light"
     },
     "output_type": "display_data"
    }
   ],
   "source": [
    "fig = plt.figure(figsize=(12,12))\n",
    "sns.scatterplot(enc[:,0],enc[:,1],hue=dataset.y)\n",
    "\n",
    "plt.legend(\"off\")\n",
    "plt.title(\"Output\")"
   ]
  },
  {
   "cell_type": "code",
   "execution_count": 23,
   "metadata": {},
   "outputs": [],
   "source": [
    "fig.savefig(\"./doc/200_cluster.jpg\")"
   ]
  },
  {
   "cell_type": "code",
   "execution_count": null,
   "metadata": {},
   "outputs": [],
   "source": []
  },
  {
   "cell_type": "code",
   "execution_count": 206,
   "metadata": {},
   "outputs": [
    {
     "data": {
      "text/plain": [
       "65536"
      ]
     },
     "execution_count": 206,
     "metadata": {},
     "output_type": "execute_result"
    }
   ],
   "source": [
    "\n"
   ]
  },
  {
   "cell_type": "code",
   "execution_count": 144,
   "metadata": {},
   "outputs": [
    {
     "data": {
      "text/plain": [
       "array([[  0],\n",
       "       [  3],\n",
       "       [  6],\n",
       "       [  9],\n",
       "       [ 12],\n",
       "       [ 15],\n",
       "       [ 18],\n",
       "       [ 21],\n",
       "       [ 24],\n",
       "       [ 27],\n",
       "       [ 30],\n",
       "       [ 33],\n",
       "       [ 36],\n",
       "       [ 39],\n",
       "       [ 42],\n",
       "       [ 45],\n",
       "       [ 48],\n",
       "       [ 51],\n",
       "       [ 54],\n",
       "       [ 57],\n",
       "       [ 60],\n",
       "       [ 63],\n",
       "       [ 66],\n",
       "       [ 69],\n",
       "       [ 72],\n",
       "       [ 75],\n",
       "       [ 78],\n",
       "       [ 81],\n",
       "       [ 84],\n",
       "       [ 87],\n",
       "       [ 90],\n",
       "       [ 93],\n",
       "       [ 96],\n",
       "       [ 99],\n",
       "       [102],\n",
       "       [105],\n",
       "       [108],\n",
       "       [111],\n",
       "       [114],\n",
       "       [117],\n",
       "       [120],\n",
       "       [123],\n",
       "       [126],\n",
       "       [129],\n",
       "       [132],\n",
       "       [135],\n",
       "       [138],\n",
       "       [141],\n",
       "       [144],\n",
       "       [147],\n",
       "       [150],\n",
       "       [153],\n",
       "       [156],\n",
       "       [159],\n",
       "       [162],\n",
       "       [165],\n",
       "       [168],\n",
       "       [171],\n",
       "       [174],\n",
       "       [177],\n",
       "       [180],\n",
       "       [183],\n",
       "       [186],\n",
       "       [189],\n",
       "       [192],\n",
       "       [195],\n",
       "       [198],\n",
       "       [201],\n",
       "       [204],\n",
       "       [207],\n",
       "       [210],\n",
       "       [213],\n",
       "       [216],\n",
       "       [219],\n",
       "       [222],\n",
       "       [225],\n",
       "       [228],\n",
       "       [231],\n",
       "       [234],\n",
       "       [237],\n",
       "       [240],\n",
       "       [243],\n",
       "       [246],\n",
       "       [249],\n",
       "       [252],\n",
       "       [255],\n",
       "       [258],\n",
       "       [261],\n",
       "       [264],\n",
       "       [267],\n",
       "       [270],\n",
       "       [273],\n",
       "       [276],\n",
       "       [279],\n",
       "       [282],\n",
       "       [285],\n",
       "       [288],\n",
       "       [291],\n",
       "       [294],\n",
       "       [297],\n",
       "       [300],\n",
       "       [303],\n",
       "       [306],\n",
       "       [309],\n",
       "       [312],\n",
       "       [315],\n",
       "       [318],\n",
       "       [321],\n",
       "       [324],\n",
       "       [327],\n",
       "       [330],\n",
       "       [333],\n",
       "       [336],\n",
       "       [339],\n",
       "       [342],\n",
       "       [345],\n",
       "       [348],\n",
       "       [351],\n",
       "       [354],\n",
       "       [357],\n",
       "       [360],\n",
       "       [363],\n",
       "       [366],\n",
       "       [369],\n",
       "       [372],\n",
       "       [375],\n",
       "       [378],\n",
       "       [381],\n",
       "       [384],\n",
       "       [387],\n",
       "       [390],\n",
       "       [393],\n",
       "       [396],\n",
       "       [399],\n",
       "       [402],\n",
       "       [405],\n",
       "       [408],\n",
       "       [411],\n",
       "       [414],\n",
       "       [417],\n",
       "       [420],\n",
       "       [423],\n",
       "       [426],\n",
       "       [429],\n",
       "       [432],\n",
       "       [435],\n",
       "       [438],\n",
       "       [441],\n",
       "       [444],\n",
       "       [447],\n",
       "       [450],\n",
       "       [453],\n",
       "       [456],\n",
       "       [459],\n",
       "       [462],\n",
       "       [465],\n",
       "       [468],\n",
       "       [471],\n",
       "       [474],\n",
       "       [477],\n",
       "       [480],\n",
       "       [483],\n",
       "       [486],\n",
       "       [489],\n",
       "       [492],\n",
       "       [495],\n",
       "       [498],\n",
       "       [501],\n",
       "       [504],\n",
       "       [507],\n",
       "       [510],\n",
       "       [513],\n",
       "       [516],\n",
       "       [519],\n",
       "       [522],\n",
       "       [525],\n",
       "       [528],\n",
       "       [531],\n",
       "       [534],\n",
       "       [537],\n",
       "       [540],\n",
       "       [543],\n",
       "       [546],\n",
       "       [549],\n",
       "       [552],\n",
       "       [555],\n",
       "       [558],\n",
       "       [561],\n",
       "       [564],\n",
       "       [567],\n",
       "       [570],\n",
       "       [573],\n",
       "       [576],\n",
       "       [579],\n",
       "       [582],\n",
       "       [585],\n",
       "       [588],\n",
       "       [591],\n",
       "       [594],\n",
       "       [597]])"
      ]
     },
     "execution_count": 144,
     "metadata": {},
     "output_type": "execute_result"
    }
   ],
   "source": [
    "pos_mul"
   ]
  },
  {
   "cell_type": "code",
   "execution_count": null,
   "metadata": {},
   "outputs": [],
   "source": []
  },
  {
   "cell_type": "code",
   "execution_count": null,
   "metadata": {},
   "outputs": [],
   "source": []
  },
  {
   "cell_type": "code",
   "execution_count": null,
   "metadata": {},
   "outputs": [],
   "source": [
    "fm.net.GlobalMaxPool2D"
   ]
  },
  {
   "cell_type": "code",
   "execution_count": null,
   "metadata": {},
   "outputs": [],
   "source": []
  },
  {
   "cell_type": "code",
   "execution_count": null,
   "metadata": {},
   "outputs": [],
   "source": []
  },
  {
   "cell_type": "code",
   "execution_count": null,
   "metadata": {},
   "outputs": [],
   "source": []
  },
  {
   "cell_type": "code",
   "execution_count": null,
   "metadata": {},
   "outputs": [],
   "source": []
  },
  {
   "cell_type": "code",
   "execution_count": 134,
   "metadata": {},
   "outputs": [],
   "source": []
  },
  {
   "cell_type": "code",
   "execution_count": 133,
   "metadata": {
    "scrolled": true
   },
   "outputs": [],
   "source": [
    "# model.summary()"
   ]
  },
  {
   "cell_type": "code",
   "execution_count": 119,
   "metadata": {},
   "outputs": [
    {
     "name": "stdout",
     "output_type": "stream",
     "text": [
      "Model: \"triplet_trainig\"\n",
      "__________________________________________________________________________________________________\n",
      "Layer (type)                    Output Shape         Param #     Connected to                     \n",
      "==================================================================================================\n",
      "anc (InputLayer)                [(None, 110, 110, 3) 0                                            \n",
      "__________________________________________________________________________________________________\n",
      "pos (InputLayer)                [(None, 110, 110, 3) 0                                            \n",
      "__________________________________________________________________________________________________\n",
      "neg (InputLayer)                [(None, 110, 110, 3) 0                                            \n",
      "__________________________________________________________________________________________________\n",
      "model_7 (Model)                 (None, 64)           3387488     anc[0][0]                        \n",
      "                                                                 pos[0][0]                        \n",
      "                                                                 neg[0][0]                        \n",
      "__________________________________________________________________________________________________\n",
      "out (Concatenate)               (None, 192)          0           model_7[1][0]                    \n",
      "                                                                 model_7[2][0]                    \n",
      "                                                                 model_7[3][0]                    \n",
      "==================================================================================================\n",
      "Total params: 3,387,488\n",
      "Trainable params: 3,387,488\n",
      "Non-trainable params: 0\n",
      "__________________________________________________________________________________________________\n"
     ]
    }
   ],
   "source": [
    "train.summary()"
   ]
  },
  {
   "cell_type": "code",
   "execution_count": null,
   "metadata": {},
   "outputs": [],
   "source": []
  },
  {
   "cell_type": "code",
   "execution_count": null,
   "metadata": {},
   "outputs": [],
   "source": []
  }
 ],
 "metadata": {
  "kernelspec": {
   "display_name": "Python 3",
   "language": "python",
   "name": "python3"
  },
  "language_info": {
   "codemirror_mode": {
    "name": "ipython",
    "version": 3
   },
   "file_extension": ".py",
   "mimetype": "text/x-python",
   "name": "python",
   "nbconvert_exporter": "python",
   "pygments_lexer": "ipython3",
   "version": "3.6.9"
  }
 },
 "nbformat": 4,
 "nbformat_minor": 4
}
